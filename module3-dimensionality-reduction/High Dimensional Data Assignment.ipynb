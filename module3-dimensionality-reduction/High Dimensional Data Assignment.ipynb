{
  "nbformat": 4,
  "nbformat_minor": 0,
  "metadata": {
    "colab": {
      "name": "High Dimensional Data Assignment.ipynb",
      "version": "0.3.2",
      "provenance": [],
      "collapsed_sections": [],
      "include_colab_link": true
    },
    "kernelspec": {
      "name": "python3",
      "display_name": "Python 3"
    }
  },
  "cells": [
    {
      "cell_type": "markdown",
      "metadata": {
        "id": "view-in-github",
        "colab_type": "text"
      },
      "source": [
        "<a href=\"https://colab.research.google.com/github/mjh09/DS-Unit-1-Sprint-4-Linear-Algebra/blob/master/module3-dimensionality-reduction/High%20Dimensional%20Data%20Assignment.ipynb\" target=\"_parent\"><img src=\"https://colab.research.google.com/assets/colab-badge.svg\" alt=\"Open In Colab\"/></a>"
      ]
    },
    {
      "cell_type": "markdown",
      "metadata": {
        "id": "7wMWCkE1RZpM",
        "colab_type": "text"
      },
      "source": [
        "# Vertical Line Test"
      ]
    },
    {
      "cell_type": "code",
      "metadata": {
        "id": "mRKkveV4I5Pj",
        "colab_type": "code",
        "colab": {}
      },
      "source": [
        "import matplotlib.pyplot as plt\n",
        "import numpy as np"
      ],
      "execution_count": 0,
      "outputs": []
    },
    {
      "cell_type": "markdown",
      "metadata": {
        "id": "W0-g7aprRv2j",
        "colab_type": "text"
      },
      "source": [
        "## 1.1 Create two graphs, one that passes the vertical line test and one that does not."
      ]
    },
    {
      "cell_type": "code",
      "metadata": {
        "id": "fIJhCtF6RW_U",
        "colab_type": "code",
        "colab": {
          "base_uri": "https://localhost:8080/",
          "height": 286
        },
        "outputId": "60bce03d-fe21-41c0-a465-d436f24a3ff5"
      },
      "source": [
        "fig, ax =plt.subplots()\n",
        "plt.ylim(-10,10)\n",
        "plt.xlim(-10,10)\n",
        "plt.grid(True)\n",
        "\n",
        "plt.axvline(0,-10,10)\n",
        "plt.axhline(0,-10,10)\n",
        "\n",
        "plt.plot([-5,7],[5,-4], color='r');# pass\n",
        "circle2 = plt.Circle((0.5, 0.5), 4, color='blue', fill=False)#fail\n",
        "ax.add_artist(circle2)"
      ],
      "execution_count": 26,
      "outputs": [
        {
          "output_type": "execute_result",
          "data": {
            "text/plain": [
              "<matplotlib.patches.Circle at 0x7f6ae4f9b278>"
            ]
          },
          "metadata": {
            "tags": []
          },
          "execution_count": 26
        },
        {
          "output_type": "display_data",
          "data": {
            "image/png": "[encoded data removed]",
            "text/plain": [
              "<Figure size 432x288 with 1 Axes>"
            ]
          },
          "metadata": {
            "tags": []
          }
        }
      ]
    },
    {
      "cell_type": "markdown",
      "metadata": {
        "id": "ckeTKqMgRy7g",
        "colab_type": "text"
      },
      "source": [
        "## 1.2 Why are graphs that don't pass the vertical line test not considered \"functions?\""
      ]
    },
    {
      "cell_type": "markdown",
      "metadata": {
        "id": "Gtl20YeDR6x-",
        "colab_type": "text"
      },
      "source": [
        "It would require a contingency or conditions to plot. multiple y coordinates to x values, a function is a rule that assigns uniquely to a member of a domain set."
      ]
    },
    {
      "cell_type": "markdown",
      "metadata": {
        "id": "g21uN62xSKSk",
        "colab_type": "text"
      },
      "source": [
        "# Functions as Relations"
      ]
    },
    {
      "cell_type": "markdown",
      "metadata": {
        "id": "gwkcV-EMSMNd",
        "colab_type": "text"
      },
      "source": [
        "## 2.1 Which of the following relations are functions? Why?\n",
        "\n",
        "\\begin{align}\n",
        "\\text{Relation 1: } \\{(1, 2), (3, 2), (1, 3)\\}\n",
        "\\\\\n",
        "\\text{Relation 2: } \\{(1, 3), (2, 3), (6, 7)\\}\n",
        "\\\\\n",
        "\\text{Relation 3: } \\{(9, 4), (2, 1), (9, 6)\\}\n",
        "\\\\\n",
        "\\text{Relation 4: } \\{(6, 2), (8, 3), (6, 4)\\}\n",
        "\\\\\n",
        "\\text{Relation 5: } \\{(2, 6), (2, 7), (2, 4)\\}\n",
        "\\end{align}"
      ]
    },
    {
      "cell_type": "markdown",
      "metadata": {
        "id": "VJnh_N59OlpH",
        "colab_type": "text"
      },
      "source": [
        "2, only one with unique x,y pairs"
      ]
    },
    {
      "cell_type": "markdown",
      "metadata": {
        "id": "y0U30PrlTAAa",
        "colab_type": "text"
      },
      "source": [
        "# Functions as a mapping between dimensions\n"
      ]
    },
    {
      "cell_type": "markdown",
      "metadata": {
        "id": "pw-OU9qmT5Ua",
        "colab_type": "text"
      },
      "source": [
        "## 3.1 for the following functions what is the dimensionality of the domain (input) and codomain (range/output)?\n",
        "\n",
        "\\begin{align}\n",
        "m(𝑥_1,𝑥_2,𝑥_3)=(x_1+x_2, x_1+x_3, x_2+x_3)\n",
        "\\\\\n",
        "n(𝑥_1,𝑥_2,𝑥_3,𝑥_4)=(x_2^2 + x_3, x_2x_4)\n",
        "\\end{align}"
      ]
    },
    {
      "cell_type": "markdown",
      "metadata": {
        "id": "EzRkq2nrPmNC",
        "colab_type": "text"
      },
      "source": [
        "m - 3->3\n",
        "n - 4->2"
      ]
    },
    {
      "cell_type": "markdown",
      "metadata": {
        "id": "k4tKHjdHUevC",
        "colab_type": "text"
      },
      "source": [
        "## 3.2 Do you think it's possible to create a function that maps from a lower dimensional space to a higher dimensional space? If so, provide an example."
      ]
    },
    {
      "cell_type": "markdown",
      "metadata": {
        "id": "aiKzG5NLPw4J",
        "colab_type": "text"
      },
      "source": [
        "f(ax) = (ax,ax) = a(x,x) = af(x)"
      ]
    },
    {
      "cell_type": "markdown",
      "metadata": {
        "id": "2nEWvwVyVWdW",
        "colab_type": "text"
      },
      "source": [
        "# Vector Transformations"
      ]
    },
    {
      "cell_type": "markdown",
      "metadata": {
        "id": "1n0-6FsYVcVk",
        "colab_type": "text"
      },
      "source": [
        "## 4.1 Plug the corresponding unit vectors into each function. Use the output vectors to create a transformation matrix.\n",
        "\n",
        "\\begin{align}\n",
        "p(\\begin{bmatrix}x_1 \\\\ x_2 \\end{bmatrix}) = \\begin{bmatrix} x_1 + 3x_2 \\\\2 x_2 - x_1 \\\\  \\end{bmatrix}\n",
        "\\\\\n",
        "\\\\\n",
        "q(\\begin{bmatrix}x_1 \\\\ x_2 \\\\ x_3\\end{bmatrix}) = \\begin{bmatrix} 4x_1 + x_2 + 2x_3 \\\\2 x_2 - x_1 + 3x_3 \\\\ 5x_1 - 2x_3 + x_2  \\end{bmatrix}\n",
        "\\end{align}"
      ]
    },
    {
      "cell_type": "markdown",
      "metadata": {
        "id": "XA1QNPDSSgSB",
        "colab_type": "text"
      },
      "source": [
        "\\begin{align}\n",
        "p(\\begin{bmatrix} 1 \\\\ 0 \\end{bmatrix}) = \\begin{bmatrix} 1 \\\\ -1 \\end{bmatrix}\n",
        "\\\\\n",
        "p(\\begin{bmatrix} 0 \\\\ 1 \\end{bmatrix}) = \\begin{bmatrix} 3 \\\\ 2 \\end{bmatrix}\n",
        "\\end{align}\n",
        "\n",
        "\\begin{align}\n",
        "T = \\begin{bmatrix} 1 & 3 \\\\ -1 & 2 \\end{bmatrix}\n",
        "\\end{align}\n"
      ]
    },
    {
      "cell_type": "markdown",
      "metadata": {
        "id": "ct4niZp9UlUR",
        "colab_type": "text"
      },
      "source": [
        "\\begin{align}\n",
        "q(\\begin{bmatrix} 1 \\\\ 0 \\\\ 0\\end{bmatrix}) = \\begin{bmatrix} 4 \\\\ -1\\\\5 \\end{bmatrix}\n",
        "\\\\\n",
        "q(\\begin{bmatrix} 0 \\\\ 1 \\\\ 0\\end{bmatrix}) = \\begin{bmatrix} 1 \\\\ 2\\\\ 1\\end{bmatrix}\n",
        "\\\\\n",
        "q(\\begin{bmatrix} 0 \\\\ 0 \\\\ 1\\end{bmatrix}) = \\begin{bmatrix} 2 \\\\ 3\\\\ -2 \\end{bmatrix}\n",
        "\\end{align}\n",
        "\n",
        "\\begin{align}\n",
        "T = \\begin{bmatrix} 4 & 1 & 2 \\\\ -1 & 2 & 3\\\\ 5 & 1 & -2 \\end{bmatrix}\n",
        "\\end{align}\n"
      ]
    },
    {
      "cell_type": "code",
      "metadata": {
        "id": "RABcjbGYSQWW",
        "colab_type": "code",
        "colab": {}
      },
      "source": [
        ""
      ],
      "execution_count": 0,
      "outputs": []
    },
    {
      "cell_type": "markdown",
      "metadata": {
        "id": "n5HUOQIxZ2gp",
        "colab_type": "text"
      },
      "source": [
        "## 4.2 Verify that your transformation matrices are correct by choosing an input matrix and calculating the result both via the traditional functions above and also via vector-matrix multiplication."
      ]
    },
    {
      "cell_type": "markdown",
      "metadata": {
        "id": "uNmMXvg8Zeaw",
        "colab_type": "text"
      },
      "source": [
        "\\begin{align}\n",
        "p(\\begin{bmatrix}2 \\\\ 4\\end{bmatrix}) = \\begin{bmatrix} 14 \\\\ 6\\\\  \\end{bmatrix}\n",
        "\\end{align}\n"
      ]
    },
    {
      "cell_type": "code",
      "metadata": {
        "id": "0UANR1IEaVWE",
        "colab_type": "code",
        "colab": {
          "base_uri": "https://localhost:8080/",
          "height": 50
        },
        "outputId": "96effaaa-a062-4698-8f60-a2f12cd03822"
      },
      "source": [
        "p = np.array([[2],[4]])\n",
        "pt = np.array([[1,3],[-1,2]])\n",
        "np.matmul(pt,p)"
      ],
      "execution_count": 29,
      "outputs": [
        {
          "output_type": "execute_result",
          "data": {
            "text/plain": [
              "array([[14],\n",
              "       [ 6]])"
            ]
          },
          "metadata": {
            "tags": []
          },
          "execution_count": 29
        }
      ]
    },
    {
      "cell_type": "markdown",
      "metadata": {
        "id": "OKWDtBKIbdeS",
        "colab_type": "text"
      },
      "source": [
        "\\begin{align}\n",
        "q(\\begin{bmatrix}3\\\\1\\\\2\\end{bmatrix}) = \\begin{bmatrix}17\\\\5\\\\12\\end{bmatrix}\n",
        "\\end{align}"
      ]
    },
    {
      "cell_type": "code",
      "metadata": {
        "id": "7Uh_cUK3bcQd",
        "colab_type": "code",
        "colab": {
          "base_uri": "https://localhost:8080/",
          "height": 67
        },
        "outputId": "90fe09e6-8c12-4115-fc9d-dc7e262e9245"
      },
      "source": [
        "q = np.array([[3],[1],[2]])\n",
        "qt = np.array([[4,1,2],[-1,2,3],[5,1,-2]])\n",
        "np.matmul(qt,q)"
      ],
      "execution_count": 30,
      "outputs": [
        {
          "output_type": "execute_result",
          "data": {
            "text/plain": [
              "array([[17],\n",
              "       [ 5],\n",
              "       [12]])"
            ]
          },
          "metadata": {
            "tags": []
          },
          "execution_count": 30
        }
      ]
    },
    {
      "cell_type": "markdown",
      "metadata": {
        "id": "vEoiri3mak7j",
        "colab_type": "text"
      },
      "source": [
        "# Eigenvalues and Eigenvectors"
      ]
    },
    {
      "cell_type": "markdown",
      "metadata": {
        "id": "5HY0R4u7anIr",
        "colab_type": "text"
      },
      "source": [
        "## 5.1 In your own words, give an explanation for the intuition behind eigenvalues and eigenvectors."
      ]
    },
    {
      "cell_type": "markdown",
      "metadata": {
        "id": "vHDkidLueQxL",
        "colab_type": "text"
      },
      "source": [
        "eigenvalues describe the scale of the eigenvector, the eigenvector is a vector the does not have its direction altered(axis) when vectorspace is transformed"
      ]
    },
    {
      "cell_type": "markdown",
      "metadata": {
        "id": "VdehMwBtatKI",
        "colab_type": "text"
      },
      "source": [
        "# The Curse of Dimensionality"
      ]
    },
    {
      "cell_type": "markdown",
      "metadata": {
        "id": "4oVrJax-a3SK",
        "colab_type": "text"
      },
      "source": [
        "## 6.1 What are some of the challenges of working with high dimensional spaces?"
      ]
    },
    {
      "cell_type": "markdown",
      "metadata": {
        "id": "UQZJjN3De4ZK",
        "colab_type": "text"
      },
      "source": [
        "lack of visualization, redundant information, non standardized information, harder/longer to find information, at a certian dimensions, things appear equidistant, making it hard for algorithms to work with accurately"
      ]
    },
    {
      "cell_type": "markdown",
      "metadata": {
        "id": "ZiBJxsZla88c",
        "colab_type": "text"
      },
      "source": [
        "## 6.2 What is the rule of thumb for how many observations you should have compared to parameters in your model?"
      ]
    },
    {
      "cell_type": "markdown",
      "metadata": {
        "id": "uEGaHKKIgye-",
        "colab_type": "text"
      },
      "source": [
        "Five times as many rows as columns/ more rows than columns"
      ]
    },
    {
      "cell_type": "markdown",
      "metadata": {
        "id": "NZmqdeygbHJx",
        "colab_type": "text"
      },
      "source": [
        "# Principal Component Analysis"
      ]
    },
    {
      "cell_type": "markdown",
      "metadata": {
        "id": "7iEheetpbJdN",
        "colab_type": "text"
      },
      "source": [
        "## 7.1 Load the UCI Machine Learning Repository's [Iris Dataset](https://gist.githubusercontent.com/curran/a08a1080b88344b0c8a7/raw/d546eaee765268bf2f487608c537c05e22e4b221/iris.csv) and use PCA to isolate the dataset's first and second principal components and plot them on a graph. "
      ]
    },
    {
      "cell_type": "code",
      "metadata": {
        "id": "TxP5qTQdhFN_",
        "colab_type": "code",
        "colab": {}
      },
      "source": [
        "import pandas as pd\n",
        "from numpy import mean, cov\n",
        "from numpy.linalg import eig"
      ],
      "execution_count": 0,
      "outputs": []
    },
    {
      "cell_type": "code",
      "metadata": {
        "id": "wy9AZVgZcHLZ",
        "colab_type": "code",
        "colab": {}
      },
      "source": [
        "df = pd.read_csv('https://gist.githubusercontent.com/curran/a08a1080b88344b0c8a7/raw/d546eaee765268bf2f487608c537c05e22e4b221/iris.csv')"
      ],
      "execution_count": 0,
      "outputs": []
    },
    {
      "cell_type": "code",
      "metadata": {
        "id": "DYpQ_XfwhK0Y",
        "colab_type": "code",
        "colab": {}
      },
      "source": [
        "df = df.select_dtypes(exclude='object')"
      ],
      "execution_count": 0,
      "outputs": []
    },
    {
      "cell_type": "code",
      "metadata": {
        "id": "T3VHcK8_iAc3",
        "colab_type": "code",
        "colab": {}
      },
      "source": [
        "# center each column at 0 by subtracting its mean \n",
        "means = mean(df)\n",
        "centered_data = df - means"
      ],
      "execution_count": 0,
      "outputs": []
    },
    {
      "cell_type": "code",
      "metadata": {
        "id": "TX_LIRNIj824",
        "colab_type": "code",
        "colab": {}
      },
      "source": [
        "# standardize the data, divide by standard deviation, covariance matrix\n",
        "covariance_matrix = cov(centered_data.T)"
      ],
      "execution_count": 0,
      "outputs": []
    },
    {
      "cell_type": "code",
      "metadata": {
        "id": "qsjOyEVDjpkO",
        "colab_type": "code",
        "colab": {}
      },
      "source": [
        "# eigencomposition of cov matrix\n",
        "values, vectors = eig(covariance_matrix.T)"
      ],
      "execution_count": 0,
      "outputs": []
    },
    {
      "cell_type": "code",
      "metadata": {
        "id": "mJ8-9lvImEwR",
        "colab_type": "code",
        "colab": {
          "base_uri": "https://localhost:8080/",
          "height": 84
        },
        "outputId": "8843109b-b86f-4bcf-e1d7-7a425f48398c"
      },
      "source": [
        "vectors"
      ],
      "execution_count": 94,
      "outputs": [
        {
          "output_type": "execute_result",
          "data": {
            "text/plain": [
              "array([[ 0.36158968, -0.65653988, -0.58099728,  0.31725455],\n",
              "       [-0.08226889, -0.72971237,  0.59641809, -0.32409435],\n",
              "       [ 0.85657211,  0.1757674 ,  0.07252408, -0.47971899],\n",
              "       [ 0.35884393,  0.07470647,  0.54906091,  0.75112056]])"
            ]
          },
          "metadata": {
            "tags": []
          },
          "execution_count": 94
        }
      ]
    },
    {
      "cell_type": "code",
      "metadata": {
        "id": "xsZVOkCxn0BQ",
        "colab_type": "code",
        "colab": {
          "base_uri": "https://localhost:8080/",
          "height": 33
        },
        "outputId": "19d77f91-c2e6-4ead-b835-807d0d960650"
      },
      "source": [
        "values"
      ],
      "execution_count": 95,
      "outputs": [
        {
          "output_type": "execute_result",
          "data": {
            "text/plain": [
              "array([4.22484077, 0.24224357, 0.07852391, 0.02368303])"
            ]
          },
          "metadata": {
            "tags": []
          },
          "execution_count": 95
        }
      ]
    },
    {
      "cell_type": "code",
      "metadata": {
        "id": "UTjhrLxsmk0X",
        "colab_type": "code",
        "colab": {}
      },
      "source": [
        "#project data\n",
        "P = vectors.T.dot(centered_data.T)"
      ],
      "execution_count": 0,
      "outputs": []
    },
    {
      "cell_type": "code",
      "metadata": {
        "id": "Gn9G8aiNm0nf",
        "colab_type": "code",
        "colab": {}
      },
      "source": [
        "P.T"
      ],
      "execution_count": 0,
      "outputs": []
    },
    {
      "cell_type": "code",
      "metadata": {
        "id": "xNVLpb4Sig1R",
        "colab_type": "code",
        "colab": {}
      },
      "source": [
        "from sklearn.decomposition import PCA"
      ],
      "execution_count": 0,
      "outputs": []
    },
    {
      "cell_type": "code",
      "metadata": {
        "id": "NBnokotSnNpO",
        "colab_type": "code",
        "colab": {}
      },
      "source": [
        "pca = PCA(2)"
      ],
      "execution_count": 0,
      "outputs": []
    },
    {
      "cell_type": "code",
      "metadata": {
        "id": "P774xEcHnStb",
        "colab_type": "code",
        "colab": {
          "base_uri": "https://localhost:8080/",
          "height": 50
        },
        "outputId": "cb65e9b2-8ad1-4afd-852f-3dfad61ddd32"
      },
      "source": [
        "pca.fit(df)"
      ],
      "execution_count": 84,
      "outputs": [
        {
          "output_type": "execute_result",
          "data": {
            "text/plain": [
              "PCA(copy=True, iterated_power='auto', n_components=2, random_state=None,\n",
              "    svd_solver='auto', tol=0.0, whiten=False)"
            ]
          },
          "metadata": {
            "tags": []
          },
          "execution_count": 84
        }
      ]
    },
    {
      "cell_type": "code",
      "metadata": {
        "id": "GJO2RIXonch0",
        "colab_type": "code",
        "colab": {
          "base_uri": "https://localhost:8080/",
          "height": 50
        },
        "outputId": "a0a14350-0624-44d8-a844-d5759e6ae72f"
      },
      "source": [
        "pca.components_"
      ],
      "execution_count": 86,
      "outputs": [
        {
          "output_type": "execute_result",
          "data": {
            "text/plain": [
              "array([[ 0.36158968, -0.08226889,  0.85657211,  0.35884393],\n",
              "       [ 0.65653988,  0.72971237, -0.1757674 , -0.07470647]])"
            ]
          },
          "metadata": {
            "tags": []
          },
          "execution_count": 86
        }
      ]
    },
    {
      "cell_type": "code",
      "metadata": {
        "id": "cCnasqTDn-0W",
        "colab_type": "code",
        "colab": {
          "base_uri": "https://localhost:8080/",
          "height": 33
        },
        "outputId": "c7db9940-fbbe-4353-808a-8b9da2be53f2"
      },
      "source": [
        "pca.explained_variance_"
      ],
      "execution_count": 96,
      "outputs": [
        {
          "output_type": "execute_result",
          "data": {
            "text/plain": [
              "array([4.22484077, 0.24224357])"
            ]
          },
          "metadata": {
            "tags": []
          },
          "execution_count": 96
        }
      ]
    },
    {
      "cell_type": "code",
      "metadata": {
        "id": "mrupBFSpoETr",
        "colab_type": "code",
        "colab": {}
      },
      "source": [
        "b = pca.transform(df)"
      ],
      "execution_count": 0,
      "outputs": []
    },
    {
      "cell_type": "code",
      "metadata": {
        "id": "i5gQ2Kr_oInF",
        "colab_type": "code",
        "colab": {
          "base_uri": "https://localhost:8080/",
          "height": 2526
        },
        "outputId": "e1843063-1650-4700-f852-9361f9ecd149"
      },
      "source": [
        "b"
      ],
      "execution_count": 100,
      "outputs": [
        {
          "output_type": "execute_result",
          "data": {
            "text/plain": [
              "array([[-2.68420713,  0.32660731],\n",
              "       [-2.71539062, -0.16955685],\n",
              "       [-2.88981954, -0.13734561],\n",
              "       [-2.7464372 , -0.31112432],\n",
              "       [-2.72859298,  0.33392456],\n",
              "       [-2.27989736,  0.74778271],\n",
              "       [-2.82089068, -0.08210451],\n",
              "       [-2.62648199,  0.17040535],\n",
              "       [-2.88795857, -0.57079803],\n",
              "       [-2.67384469, -0.1066917 ],\n",
              "       [-2.50652679,  0.65193501],\n",
              "       [-2.61314272,  0.02152063],\n",
              "       [-2.78743398, -0.22774019],\n",
              "       [-3.22520045, -0.50327991],\n",
              "       [-2.64354322,  1.1861949 ],\n",
              "       [-2.38386932,  1.34475434],\n",
              "       [-2.6225262 ,  0.81808967],\n",
              "       [-2.64832273,  0.31913667],\n",
              "       [-2.19907796,  0.87924409],\n",
              "       [-2.58734619,  0.52047364],\n",
              "       [-2.3105317 ,  0.39786782],\n",
              "       [-2.54323491,  0.44003175],\n",
              "       [-3.21585769,  0.14161557],\n",
              "       [-2.30312854,  0.10552268],\n",
              "       [-2.35617109, -0.03120959],\n",
              "       [-2.50791723, -0.13905634],\n",
              "       [-2.469056  ,  0.13788731],\n",
              "       [-2.56239095,  0.37468456],\n",
              "       [-2.63982127,  0.31929007],\n",
              "       [-2.63284791, -0.19007583],\n",
              "       [-2.58846205, -0.19739308],\n",
              "       [-2.41007734,  0.41808001],\n",
              "       [-2.64763667,  0.81998263],\n",
              "       [-2.59715948,  1.10002193],\n",
              "       [-2.67384469, -0.1066917 ],\n",
              "       [-2.86699985,  0.0771931 ],\n",
              "       [-2.62522846,  0.60680001],\n",
              "       [-2.67384469, -0.1066917 ],\n",
              "       [-2.98184266, -0.48025005],\n",
              "       [-2.59032303,  0.23605934],\n",
              "       [-2.77013891,  0.27105942],\n",
              "       [-2.85221108, -0.93286537],\n",
              "       [-2.99829644, -0.33430757],\n",
              "       [-2.4055141 ,  0.19591726],\n",
              "       [-2.20883295,  0.44269603],\n",
              "       [-2.71566519, -0.24268148],\n",
              "       [-2.53757337,  0.51036755],\n",
              "       [-2.8403213 , -0.22057634],\n",
              "       [-2.54268576,  0.58628103],\n",
              "       [-2.70391231,  0.11501085],\n",
              "       [ 1.28479459,  0.68543919],\n",
              "       [ 0.93241075,  0.31919809],\n",
              "       [ 1.46406132,  0.50418983],\n",
              "       [ 0.18096721, -0.82560394],\n",
              "       [ 1.08713449,  0.07539039],\n",
              "       [ 0.64043675, -0.41732348],\n",
              "       [ 1.09522371,  0.28389121],\n",
              "       [-0.75146714, -1.00110751],\n",
              "       [ 1.04329778,  0.22895691],\n",
              "       [-0.01019007, -0.72057487],\n",
              "       [-0.5110862 , -1.26249195],\n",
              "       [ 0.51109806, -0.10228411],\n",
              "       [ 0.26233576, -0.5478933 ],\n",
              "       [ 0.98404455, -0.12436042],\n",
              "       [-0.174864  , -0.25181557],\n",
              "       [ 0.92757294,  0.46823621],\n",
              "       [ 0.65959279, -0.35197629],\n",
              "       [ 0.23454059, -0.33192183],\n",
              "       [ 0.94236171, -0.54182226],\n",
              "       [ 0.0432464 , -0.58148945],\n",
              "       [ 1.11624072, -0.08421401],\n",
              "       [ 0.35678657, -0.06682383],\n",
              "       [ 1.29646885, -0.32756152],\n",
              "       [ 0.92050265, -0.18239036],\n",
              "       [ 0.71400821,  0.15037915],\n",
              "       [ 0.89964086,  0.32961098],\n",
              "       [ 1.33104142,  0.24466952],\n",
              "       [ 1.55739627,  0.26739258],\n",
              "       [ 0.81245555, -0.16233157],\n",
              "       [-0.30733476, -0.36508661],\n",
              "       [-0.07034289, -0.70253793],\n",
              "       [-0.19188449, -0.67749054],\n",
              "       [ 0.13499495, -0.31170964],\n",
              "       [ 1.37873698, -0.42120514],\n",
              "       [ 0.58727485, -0.48328427],\n",
              "       [ 0.8072055 ,  0.19505396],\n",
              "       [ 1.22042897,  0.40803534],\n",
              "       [ 0.81286779, -0.370679  ],\n",
              "       [ 0.24519516, -0.26672804],\n",
              "       [ 0.16451343, -0.67966147],\n",
              "       [ 0.46303099, -0.66952655],\n",
              "       [ 0.89016045, -0.03381244],\n",
              "       [ 0.22887905, -0.40225762],\n",
              "       [-0.70708128, -1.00842476],\n",
              "       [ 0.35553304, -0.50321849],\n",
              "       [ 0.33112695, -0.21118014],\n",
              "       [ 0.37523823, -0.29162202],\n",
              "       [ 0.64169028,  0.01907118],\n",
              "       [-0.90846333, -0.75156873],\n",
              "       [ 0.29780791, -0.34701652],\n",
              "       [ 2.53172698, -0.01184224],\n",
              "       [ 1.41407223, -0.57492506],\n",
              "       [ 2.61648461,  0.34193529],\n",
              "       [ 1.97081495, -0.18112569],\n",
              "       [ 2.34975798, -0.04188255],\n",
              "       [ 3.39687992,  0.54716805],\n",
              "       [ 0.51938325, -1.19135169],\n",
              "       [ 2.9320051 ,  0.35237701],\n",
              "       [ 2.31967279, -0.24554817],\n",
              "       [ 2.91813423,  0.78038063],\n",
              "       [ 1.66193495,  0.2420384 ],\n",
              "       [ 1.80234045, -0.21615461],\n",
              "       [ 2.16537886,  0.21528028],\n",
              "       [ 1.34459422, -0.77641543],\n",
              "       [ 1.5852673 , -0.53930705],\n",
              "       [ 1.90474358,  0.11881899],\n",
              "       [ 1.94924878,  0.04073026],\n",
              "       [ 3.48876538,  1.17154454],\n",
              "       [ 3.79468686,  0.25326557],\n",
              "       [ 1.29832982, -0.76101394],\n",
              "       [ 2.42816726,  0.37678197],\n",
              "       [ 1.19809737, -0.60557896],\n",
              "       [ 3.49926548,  0.45677347],\n",
              "       [ 1.38766825, -0.20403099],\n",
              "       [ 2.27585365,  0.33338653],\n",
              "       [ 2.61419383,  0.55836695],\n",
              "       [ 1.25762518, -0.179137  ],\n",
              "       [ 1.29066965, -0.11642525],\n",
              "       [ 2.12285398, -0.21085488],\n",
              "       [ 2.3875644 ,  0.46251925],\n",
              "       [ 2.84096093,  0.37274259],\n",
              "       [ 3.2323429 ,  1.37052404],\n",
              "       [ 2.15873837, -0.21832553],\n",
              "       [ 1.4431026 , -0.14380129],\n",
              "       [ 1.77964011, -0.50146479],\n",
              "       [ 3.07652162,  0.68576444],\n",
              "       [ 2.14498686,  0.13890661],\n",
              "       [ 1.90486293,  0.04804751],\n",
              "       [ 1.16885347, -0.1645025 ],\n",
              "       [ 2.10765373,  0.37148225],\n",
              "       [ 2.31430339,  0.18260885],\n",
              "       [ 1.92245088,  0.40927118],\n",
              "       [ 1.41407223, -0.57492506],\n",
              "       [ 2.56332271,  0.2759745 ],\n",
              "       [ 2.41939122,  0.30350394],\n",
              "       [ 1.94401705,  0.18741522],\n",
              "       [ 1.52566363, -0.37502085],\n",
              "       [ 1.76404594,  0.07851919],\n",
              "       [ 1.90162908,  0.11587675],\n",
              "       [ 1.38966613, -0.28288671]])"
            ]
          },
          "metadata": {
            "tags": []
          },
          "execution_count": 100
        }
      ]
    },
    {
      "cell_type": "code",
      "metadata": {
        "id": "gchbeDpPoabu",
        "colab_type": "code",
        "colab": {}
      },
      "source": [
        ""
      ],
      "execution_count": 0,
      "outputs": []
    },
    {
      "cell_type": "markdown",
      "metadata": {
        "id": "RQx7UvsucIrL",
        "colab_type": "text"
      },
      "source": [
        "# Stretch Goal\n",
        "\n",
        "## 1) Do NOT work on the stretch goal until you feel like you have a firm grasp of eigenvectors, eigenvalues, and PCA. Prioritize self-study over the stretch goal if you are not comfortable with those topics yet.\n",
        "\n",
        "## 2) Explore further the intuition behind eigenvalues and eigenvectors by creating your very own eigenfaces:\n",
        "\n",
        "<center>![Eigenfaces](https://i.pinimg.com/236x/1c/f1/01/1cf101a9859437a5d096a04b05be06b4--faces-tattoo.jpg)</center>\n",
        "\n",
        "You don't necessarily have to use this resource, but this will get you started: \n",
        "[Eigenface Tutorial](https://sandipanweb.wordpress.com/2018/01/06/eigenfaces-and-a-simple-face-detector-with-pca-svd-in-python/)"
      ]
    }
  ]
}